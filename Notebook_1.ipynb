{
  "nbformat": 4,
  "nbformat_minor": 0,
  "metadata": {
    "colab": {
      "provenance": [],
      "gpuType": "T4",
      "mount_file_id": "1ZPPho6t51gMB4Xap4OyRDWtZ_tekzfU9",
      "authorship_tag": "ABX9TyMZ4v7y127YWWdB7OAfJo+e",
      "include_colab_link": true
    },
    "kernelspec": {
      "name": "python3",
      "display_name": "Python 3"
    },
    "language_info": {
      "name": "python"
    },
    "accelerator": "GPU"
  },
  "cells": [
    {
      "cell_type": "markdown",
      "metadata": {
        "id": "view-in-github",
        "colab_type": "text"
      },
      "source": [
        "<a href=\"https://colab.research.google.com/github/dyespring/demo/blob/main/Notebook_1.ipynb\" target=\"_parent\"><img src=\"https://colab.research.google.com/assets/colab-badge.svg\" alt=\"Open In Colab\"/></a>"
      ]
    },
    {
      "cell_type": "code",
      "execution_count": 3,
      "metadata": {
        "colab": {
          "base_uri": "https://localhost:8080/"
        },
        "id": "Qe2Dq_EbqKSU",
        "outputId": "1010be51-9c2b-476c-dbcc-a405138cc1d6"
      },
      "outputs": [
        {
          "output_type": "stream",
          "name": "stdout",
          "text": [
            "hello world\n"
          ]
        }
      ],
      "source": [
        "print(\"hello world\")"
      ]
    },
    {
      "cell_type": "code",
      "source": [
        "import pandas as pd"
      ],
      "metadata": {
        "id": "mDaoSYrWq9ev"
      },
      "execution_count": 4,
      "outputs": []
    },
    {
      "cell_type": "code",
      "source": [
        "!pwd"
      ],
      "metadata": {
        "colab": {
          "base_uri": "https://localhost:8080/"
        },
        "id": "SqFlvcAHrKGT",
        "outputId": "437d83b2-30c9-4bca-a2df-682ef330a996"
      },
      "execution_count": 6,
      "outputs": [
        {
          "output_type": "stream",
          "name": "stdout",
          "text": [
            "/content\n"
          ]
        }
      ]
    },
    {
      "cell_type": "code",
      "source": [
        "!git clone https://github.com/fastai/fastbook.git"
      ],
      "metadata": {
        "colab": {
          "base_uri": "https://localhost:8080/"
        },
        "id": "p_VKpsJ4rUD0",
        "outputId": "f6f332ad-e40a-41aa-e29c-65823c8b30f1"
      },
      "execution_count": 8,
      "outputs": [
        {
          "output_type": "stream",
          "name": "stdout",
          "text": [
            "Cloning into 'fastbook'...\n",
            "remote: Enumerating objects: 2762, done.\u001b[K\n",
            "remote: Counting objects: 100% (6/6), done.\u001b[K\n",
            "remote: Compressing objects: 100% (3/3), done.\u001b[K\n",
            "remote: Total 2762 (delta 4), reused 3 (delta 3), pack-reused 2756 (from 2)\u001b[K\n",
            "Receiving objects: 100% (2762/2762), 84.02 MiB | 33.66 MiB/s, done.\n",
            "Resolving deltas: 100% (1591/1591), done.\n"
          ]
        }
      ]
    },
    {
      "cell_type": "code",
      "source": [
        "!cd fastbook"
      ],
      "metadata": {
        "id": "K9V05ee_rhKN"
      },
      "execution_count": 12,
      "outputs": []
    },
    {
      "cell_type": "code",
      "source": [
        "!ls fastbook/"
      ],
      "metadata": {
        "colab": {
          "base_uri": "https://localhost:8080/"
        },
        "id": "4HuWHVyvrk8C",
        "outputId": "3d9de21c-5a33-4616-dcd9-ec7f2cab56cf"
      },
      "execution_count": 14,
      "outputs": [
        {
          "output_type": "stream",
          "name": "stdout",
          "text": [
            "01_intro.ipynb\t\t 16_accel_sgd.ipynb    README_id.md\n",
            "02_production.ipynb\t 17_foundations.ipynb  README_it.md\n",
            "03_ethics.ipynb\t\t 18_CAM.ipynb\t       README_ja.md\n",
            "04_mnist_basics.ipynb\t 19_learner.ipynb      README_ko.md\n",
            "05_pet_breeds.ipynb\t 20_conclusion.ipynb   README.md\n",
            "06_multicat.ipynb\t app_blog.ipynb        README_pt.md\n",
            "07_sizing_and_tta.ipynb  app_jupyter.ipynb     README_tr.md\n",
            "08_collab.ipynb\t\t clean\t\t       README_vn.md\n",
            "09_tabular.ipynb\t CODE_OF_CONDUCT.md    README_zh.md\n",
            "10_nlp.ipynb\t\t environment.yml       requirements.txt\n",
            "11_midlevel_data.ipynb\t images\t\t       settings.ini\n",
            "12_nlp_dive.ipynb\t LICENSE\t       tools\n",
            "13_convolutions.ipynb\t README_ar.md\t       translations\n",
            "14_resnet.ipynb\t\t README_bn.md\t       utils.py\n",
            "15_arch_details.ipynb\t README_es.md\n"
          ]
        }
      ]
    }
  ]
}